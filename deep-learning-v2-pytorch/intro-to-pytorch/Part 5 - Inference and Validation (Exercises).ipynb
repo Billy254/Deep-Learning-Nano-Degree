{
 "cells": [
  {
   "cell_type": "markdown",
   "metadata": {},
   "source": [
    "# Inference and Validation\n",
    "\n",
    "Now that you have a trained network, you can use it for making predictions. This is typically called **inference**, a term borrowed from statistics. However, neural networks have a tendency to perform *too well* on the training data and aren't able to generalize to data that hasn't been seen before. This is called **overfitting** and it impairs inference performance. To test for overfitting while training, we measure the performance on data not in the training set called the **validation** set. We avoid overfitting through regularization such as dropout while monitoring the validation performance during training. In this notebook, I'll show you how to do this in PyTorch. \n",
    "\n",
    "As usual, let's start by loading the dataset through torchvision. You'll learn more about torchvision and loading data in a later part. This time we'll be taking advantage of the test set which you can get by setting `train=False` here:\n",
    "\n",
    "```python\n",
    "testset = datasets.FashionMNIST('~/.pytorch/F_MNIST_data/', download=True, train=False, transform=transform)\n",
    "```\n",
    "\n",
    "The test set contains images just like the training set. Typically you'll see 10-20% of the original dataset held out for testing and validation with the rest being used for training."
   ]
  },
  {
   "cell_type": "code",
   "execution_count": 1,
   "metadata": {},
   "outputs": [],
   "source": [
    "import torch\n",
    "from torchvision import datasets, transforms\n",
    "\n",
    "# Define a transform to normalize the data\n",
    "transform = transforms.Compose([transforms.ToTensor(),\n",
    "                                transforms.Normalize((0.5,), (0.5,))])\n",
    "# Download and load the training data\n",
    "trainset = datasets.FashionMNIST('~/.pytorch/F_MNIST_data/', download=True, train=True, transform=transform)\n",
    "trainloader = torch.utils.data.DataLoader(trainset, batch_size=64, shuffle=True)\n",
    "\n",
    "# Download and load the test data\n",
    "testset = datasets.FashionMNIST('~/.pytorch/F_MNIST_data/', download=True, train=False, transform=transform)\n",
    "testloader = torch.utils.data.DataLoader(testset, batch_size=64, shuffle=True)"
   ]
  },
  {
   "cell_type": "markdown",
   "metadata": {},
   "source": [
    "Here I'll create a model like normal, using the same one from my solution for part 4."
   ]
  },
  {
   "cell_type": "code",
   "execution_count": 2,
   "metadata": {},
   "outputs": [],
   "source": [
    "from torch import nn, optim\n",
    "import torch.nn.functional as F\n",
    "\n",
    "class Classifier(nn.Module):\n",
    "    def __init__(self):\n",
    "        super().__init__()\n",
    "        self.fc1 = nn.Linear(784, 256)\n",
    "        self.fc2 = nn.Linear(256, 128)\n",
    "        self.fc3 = nn.Linear(128, 64)\n",
    "        self.fc4 = nn.Linear(64, 10)\n",
    "        \n",
    "    def forward(self, x):\n",
    "        # make sure input tensor is flattened\n",
    "        x = x.view(x.shape[0], -1)\n",
    "        \n",
    "        x = F.relu(self.fc1(x))\n",
    "        x = F.relu(self.fc2(x))\n",
    "        x = F.relu(self.fc3(x))\n",
    "        x = F.log_softmax(self.fc4(x), dim=1)\n",
    "        \n",
    "        return x"
   ]
  },
  {
   "cell_type": "markdown",
   "metadata": {},
   "source": [
    "The goal of validation is to measure the model's performance on data that isn't part of the training set. Performance here is up to the developer to define though. Typically this is just accuracy, the percentage of classes the network predicted correctly. Other options are [precision and recall](https://en.wikipedia.org/wiki/Precision_and_recall#Definition_(classification_context)) and top-5 error rate. We'll focus on accuracy here. First I'll do a forward pass with one batch from the test set."
   ]
  },
  {
   "cell_type": "code",
   "execution_count": 3,
   "metadata": {},
   "outputs": [
    {
     "name": "stdout",
     "output_type": "stream",
     "text": [
      "torch.Size([64, 10])\n"
     ]
    }
   ],
   "source": [
    "model = Classifier()\n",
    "\n",
    "images, labels = next(iter(testloader))\n",
    "# Get the class probabilities\n",
    "ps = torch.exp(model(images))\n",
    "# Make sure the shape is appropriate, we should get 10 class probabilities for 64 examples\n",
    "print(ps.shape)"
   ]
  },
  {
   "cell_type": "markdown",
   "metadata": {},
   "source": [
    "With the probabilities, we can get the most likely class using the `ps.topk` method. This returns the $k$ highest values. Since we just want the most likely class, we can use `ps.topk(1)`. This returns a tuple of the top-$k$ values and the top-$k$ indices. If the highest value is the fifth element, we'll get back 4 as the index."
   ]
  },
  {
   "cell_type": "code",
   "execution_count": 7,
   "metadata": {},
   "outputs": [
    {
     "name": "stdout",
     "output_type": "stream",
     "text": [
      "tensor([[7],\n",
      "        [7],\n",
      "        [7],\n",
      "        [7],\n",
      "        [7],\n",
      "        [7],\n",
      "        [7],\n",
      "        [7],\n",
      "        [6],\n",
      "        [7]])\n"
     ]
    }
   ],
   "source": [
    "top_p, top_class = ps.topk(1, dim=1)\n",
    "# Look at the most likely classes for the first 10 examples\n",
    "print(top_class[:10,:])"
   ]
  },
  {
   "cell_type": "markdown",
   "metadata": {},
   "source": [
    "Now we can check if the predicted classes match the labels. This is simple to do by equating `top_class` and `labels`, but we have to be careful of the shapes. Here `top_class` is a 2D tensor with shape `(64, 1)` while `labels` is 1D with shape `(64)`. To get the equality to work out the way we want, `top_class` and `labels` must have the same shape.\n",
    "\n",
    "If we do\n",
    "\n",
    "```python\n",
    "equals = top_class == labels\n",
    "```\n",
    "\n",
    "`equals` will have shape `(64, 64)`, try it yourself. What it's doing is comparing the one element in each row of `top_class` with each element in `labels` which returns 64 True/False boolean values for each row."
   ]
  },
  {
   "cell_type": "code",
   "execution_count": 9,
   "metadata": {},
   "outputs": [],
   "source": [
    "equals = top_class == labels.view(*top_class.shape)"
   ]
  },
  {
   "cell_type": "markdown",
   "metadata": {},
   "source": [
    "Now we need to calculate the percentage of correct predictions. `equals` has binary values, either 0 or 1. This means that if we just sum up all the values and divide by the number of values, we get the percentage of correct predictions. This is the same operation as taking the mean, so we can get the accuracy with a call to `torch.mean`. If only it was that simple. If you try `torch.mean(equals)`, you'll get an error\n",
    "\n",
    "```\n",
    "RuntimeError: mean is not implemented for type torch.ByteTensor\n",
    "```\n",
    "\n",
    "This happens because `equals` has type `torch.ByteTensor` but `torch.mean` isn't implemented for tensors with that type. So we'll need to convert `equals` to a float tensor. Note that when we take `torch.mean` it returns a scalar tensor, to get the actual value as a float we'll need to do `accuracy.item()`."
   ]
  },
  {
   "cell_type": "code",
   "execution_count": 10,
   "metadata": {},
   "outputs": [
    {
     "name": "stdout",
     "output_type": "stream",
     "text": [
      "Accuracy: 10.9375%\n"
     ]
    }
   ],
   "source": [
    "accuracy = torch.mean(equals.type(torch.FloatTensor))\n",
    "print(f'Accuracy: {accuracy.item()*100}%')"
   ]
  },
  {
   "cell_type": "markdown",
   "metadata": {},
   "source": [
    "The network is untrained so it's making random guesses and we should see an accuracy around 10%. Now let's train our network and include our validation pass so we can measure how well the network is performing on the test set. Since we're not updating our parameters in the validation pass, we can speed up our code by turning off gradients using `torch.no_grad()`:\n",
    "\n",
    "```python\n",
    "# turn off gradients\n",
    "with torch.no_grad():\n",
    "    # validation pass here\n",
    "    for images, labels in testloader:\n",
    "        ...\n",
    "```\n",
    "\n",
    ">**Exercise:** Implement the validation loop below and print out the total accuracy after the loop. You can largely copy and paste the code from above, but I suggest typing it in because writing it out yourself is essential for building the skill. In general you'll always learn more by typing it rather than copy-pasting. You should be able to get an accuracy above 80%."
   ]
  },
  {
   "cell_type": "code",
   "execution_count": 16,
   "metadata": {},
   "outputs": [
    {
     "name": "stdout",
     "output_type": "stream",
     "text": [
      "Epoch : 1 training loss : 0.5182581779830999 test Loss 0.4442251920700073Test accuracy 0.8415604829788208\n",
      "Epoch : 2 training loss : 0.3909589063479448 test Loss 0.4170230031013489Test accuracy 0.8511146306991577\n",
      "Epoch : 3 training loss : 0.35595284552494094 test Loss 0.3809664845466614Test accuracy 0.8616639971733093\n",
      "Epoch : 4 training loss : 0.3307394434505307 test Loss 0.37417876720428467Test accuracy 0.8608678579330444\n",
      "Epoch : 5 training loss : 0.3157660480199465 test Loss 0.40897467732429504Test accuracy 0.8600716590881348\n",
      "Epoch : 6 training loss : 0.30274067353655787 test Loss 0.36376309394836426Test accuracy 0.8707205653190613\n",
      "Epoch : 7 training loss : 0.29260269420614626 test Loss 0.3642789125442505Test accuracy 0.8725119233131409\n",
      "Epoch : 8 training loss : 0.28332646611307477 test Loss 0.36725884675979614Test accuracy 0.8739052414894104\n",
      "Epoch : 9 training loss : 0.27502209384208803 test Loss 0.36750248074531555Test accuracy 0.8730095624923706\n",
      "Epoch : 10 training loss : 0.2633477778577093 test Loss 0.404682993888855Test accuracy 0.8705214858055115\n",
      "Epoch : 11 training loss : 0.25718074573922767 test Loss 0.3715693950653076Test accuracy 0.8753980994224548\n",
      "Epoch : 12 training loss : 0.25704022054113684 test Loss 0.3948163092136383Test accuracy 0.8716162443161011\n",
      "Epoch : 13 training loss : 0.2482268216608684 test Loss 0.37754109501838684Test accuracy 0.8769904375076294\n",
      "Epoch : 14 training loss : 0.24499362818340756 test Loss 0.36304837465286255Test accuracy 0.877886176109314\n",
      "Epoch : 15 training loss : 0.23345880339474184 test Loss 0.3605515658855438Test accuracy 0.8789808750152588\n",
      "Epoch : 16 training loss : 0.22926156002400652 test Loss 0.3837655782699585Test accuracy 0.8752985596656799\n",
      "Epoch : 17 training loss : 0.22262284824493597 test Loss 0.3832917809486389Test accuracy 0.8818670511245728\n",
      "Epoch : 18 training loss : 0.22645306081246974 test Loss 0.4045187532901764Test accuracy 0.8763933181762695\n",
      "Epoch : 19 training loss : 0.21820144788590448 test Loss 0.37713661789894104Test accuracy 0.8815684914588928\n",
      "Epoch : 20 training loss : 0.21037112868257932 test Loss 0.36956068873405457Test accuracy 0.881667971611023\n",
      "Epoch : 21 training loss : 0.21256827947491014 test Loss 0.37739381194114685Test accuracy 0.8854498267173767\n",
      "Epoch : 22 training loss : 0.20539298862107655 test Loss 0.3918198347091675Test accuracy 0.8834593892097473\n",
      "Epoch : 23 training loss : 0.20144082151099182 test Loss 0.39913421869277954Test accuracy 0.8818670511245728\n",
      "Epoch : 24 training loss : 0.20124521890460556 test Loss 0.39688315987586975Test accuracy 0.8825637102127075\n",
      "Epoch : 25 training loss : 0.19343569682144535 test Loss 0.413417249917984Test accuracy 0.8828622698783875\n",
      "Epoch : 26 training loss : 0.1887114733350334 test Loss 0.3883618116378784Test accuracy 0.8868431448936462\n",
      "Epoch : 27 training loss : 0.19138522701524596 test Loss 0.4136558175086975Test accuracy 0.884454607963562\n",
      "Epoch : 28 training loss : 0.1869901611503444 test Loss 0.3926773965358734Test accuracy 0.8851512670516968\n",
      "Epoch : 29 training loss : 0.18407348475492458 test Loss 0.4189448654651642Test accuracy 0.8848527073860168\n",
      "Epoch : 30 training loss : 0.18272906111906778 test Loss 0.4093581736087799Test accuracy 0.8809713125228882\n"
     ]
    }
   ],
   "source": [
    "model = Classifier()\n",
    "criterion = nn.NLLLoss()\n",
    "optimizer = optim.Adam(model.parameters(), lr=0.003)\n",
    "\n",
    "epochs = 30\n",
    "steps = 0\n",
    "\n",
    "train_losses, test_losses = [], []\n",
    "for e in range(epochs):\n",
    "    running_loss = 0\n",
    "    for images, labels in trainloader:\n",
    "        \n",
    "        optimizer.zero_grad()\n",
    "        \n",
    "        log_ps = model(images)\n",
    "        loss = criterion(log_ps, labels)\n",
    "        loss.backward()\n",
    "        optimizer.step()\n",
    "        \n",
    "        running_loss += loss.item()\n",
    "        \n",
    "    else:\n",
    "        ## TODO: Implement the validation pass and print out the validation accuracy\n",
    "        test_loss = 0\n",
    "        accuracy = 0\n",
    "        with torch.no_grad():\n",
    "            for x_test, y_test in testloader:\n",
    "                y_preds =  model(x_test)\n",
    "                test_loss += criterion(y_preds, y_test)\n",
    "                \n",
    "                y_proba = torch.exp(y_preds)\n",
    "                top_p, top_class = y_proba.topk(1, dim=1)\n",
    "                equals = top_class == y_test.view(*top_class.shape)\n",
    "                \n",
    "                accuracy += torch.mean(equals.type(torch.FloatTensor))\n",
    "        train_losses.append(running_loss/len(trainloader)) \n",
    "        test_losses.append(test_loss/len(testloader))\n",
    "                \n",
    "        print(f\"Epoch : {e + 1} \"+\n",
    "              f\"training loss : {running_loss/len(trainloader)} \"+ \n",
    "              f\"test Loss {test_loss/len(testloader)}\" +\n",
    "              f\"Test accuracy {accuracy/len(testloader)}\")"
   ]
  },
  {
   "cell_type": "markdown",
   "metadata": {},
   "source": [
    "## Overfitting\n",
    "\n",
    "If we look at the training and validation losses as we train the network, we can see a phenomenon known as overfitting.\n",
    "\n",
    "<img src='assets/overfitting.png' width=450px>\n",
    "\n",
    "The network learns the training set better and better, resulting in lower training losses. However, it starts having problems generalizing to data outside the training set leading to the validation loss increasing. The ultimate goal of any deep learning model is to make predictions on new data, so we should strive to get the lowest validation loss possible. One option is to use the version of the model with the lowest validation loss, here the one around 8-10 training epochs. This strategy is called *early-stopping*. In practice, you'd save the model frequently as you're training then later choose the model with the lowest validation loss.\n",
    "\n",
    "The most common method to reduce overfitting (outside of early-stopping) is *dropout*, where we randomly drop input units. This forces the network to share information between weights, increasing it's ability to generalize to new data. Adding dropout in PyTorch is straightforward using the [`nn.Dropout`](https://pytorch.org/docs/stable/nn.html#torch.nn.Dropout) module.\n",
    "\n",
    "```python\n",
    "class Classifier(nn.Module):\n",
    "    def __init__(self):\n",
    "        super().__init__()\n",
    "        self.fc1 = nn.Linear(784, 256)\n",
    "        self.fc2 = nn.Linear(256, 128)\n",
    "        self.fc3 = nn.Linear(128, 64)\n",
    "        self.fc4 = nn.Linear(64, 10)\n",
    "        \n",
    "        # Dropout module with 0.2 drop probability\n",
    "        self.dropout = nn.Dropout(p=0.2)\n",
    "        \n",
    "    def forward(self, x):\n",
    "        # make sure input tensor is flattened\n",
    "        x = x.view(x.shape[0], -1)\n",
    "        \n",
    "        # Now with dropout\n",
    "        x = self.dropout(F.relu(self.fc1(x)))\n",
    "        x = self.dropout(F.relu(self.fc2(x)))\n",
    "        x = self.dropout(F.relu(self.fc3(x)))\n",
    "        \n",
    "        # output so no dropout here\n",
    "        x = F.log_softmax(self.fc4(x), dim=1)\n",
    "        \n",
    "        return x\n",
    "```\n",
    "\n",
    "During training we want to use dropout to prevent overfitting, but during inference we want to use the entire network. So, we need to turn off dropout during validation, testing, and whenever we're using the network to make predictions. To do this, you use `model.eval()`. This sets the model to evaluation mode where the dropout probability is 0. You can turn dropout back on by setting the model to train mode with `model.train()`. In general, the pattern for the validation loop will look like this, where you turn off gradients, set the model to evaluation mode, calculate the validation loss and metric, then set the model back to train mode.\n",
    "\n",
    "```python\n",
    "# turn off gradients\n",
    "with torch.no_grad():\n",
    "    \n",
    "    # set model to evaluation mode\n",
    "    model.eval()\n",
    "    \n",
    "    # validation pass here\n",
    "    for images, labels in testloader:\n",
    "        ...\n",
    "\n",
    "# set model back to train mode\n",
    "model.train()\n",
    "```"
   ]
  },
  {
   "cell_type": "markdown",
   "metadata": {},
   "source": [
    "> **Exercise:** Add dropout to your model and train it on Fashion-MNIST again. See if you can get a lower validation loss or higher accuracy."
   ]
  },
  {
   "cell_type": "code",
   "execution_count": 17,
   "metadata": {},
   "outputs": [],
   "source": [
    "## TODO: Define your model with dropout added\n",
    "\n",
    "class Classifier(nn.Module):\n",
    "    def __init__(self):\n",
    "        super().__init__()\n",
    "        self.fc1 = nn.Linear(784, 256)\n",
    "        self.fc2 = nn.Linear(256, 128)\n",
    "        self.fc3 = nn.Linear(128, 64)\n",
    "        self.fc4 = nn.Linear(64, 10)\n",
    "        \n",
    "        self.dropout = nn.Dropout(p=0.2)\n",
    "        \n",
    "    def forward(self, x):\n",
    "        # make sure input tensor is flattened\n",
    "        x = x.view(x.shape[0], -1)\n",
    "        \n",
    "        x = self.dropout(F.relu(self.fc1(x)))\n",
    "        x = self.dropout(F.relu(self.fc2(x)))\n",
    "        x = self.dropout(F.relu(self.fc3(x)))\n",
    "        x = F.log_softmax(self.fc4(x), dim=1)\n",
    "        \n",
    "        return x"
   ]
  },
  {
   "cell_type": "code",
   "execution_count": 19,
   "metadata": {},
   "outputs": [
    {
     "name": "stdout",
     "output_type": "stream",
     "text": [
      "Epoch : 1 training loss : 0.6025776742681511 test Loss 0.4669826626777649Test accuracy 0.8394705653190613\n",
      "Epoch : 2 training loss : 0.4740004573327138 test Loss 0.46799206733703613Test accuracy 0.8389729261398315\n",
      "Epoch : 3 training loss : 0.44797002338270137 test Loss 0.4204600155353546Test accuracy 0.8446456789970398\n",
      "Epoch : 4 training loss : 0.42802013156574165 test Loss 0.4599889814853668Test accuracy 0.8376791477203369\n",
      "Epoch : 5 training loss : 0.420639856029421 test Loss 0.40316012501716614Test accuracy 0.855792224407196\n",
      "Epoch : 6 training loss : 0.40562748683413974 test Loss 0.40360692143440247Test accuracy 0.856090784072876\n",
      "Epoch : 7 training loss : 0.39908029851533455 test Loss 0.39846357703208923Test accuracy 0.8597730994224548\n",
      "Epoch : 8 training loss : 0.39594873091750055 test Loss 0.3980775475502014Test accuracy 0.8630573153495789\n",
      "Epoch : 9 training loss : 0.39271953879897276 test Loss 0.3996378481388092Test accuracy 0.8590764403343201\n",
      "Epoch : 10 training loss : 0.387232567487495 test Loss 0.3760218918323517Test accuracy 0.8658439517021179\n",
      "Epoch : 11 training loss : 0.38339864413367153 test Loss 0.3749583661556244Test accuracy 0.8682324886322021\n",
      "Epoch : 12 training loss : 0.3792401470466336 test Loss 0.41418832540512085Test accuracy 0.8607683181762695\n",
      "Epoch : 13 training loss : 0.37796738465775304 test Loss 0.39860132336616516Test accuracy 0.8631568551063538\n",
      "Epoch : 14 training loss : 0.37388398369619336 test Loss 0.4186103045940399Test accuracy 0.8586783409118652\n",
      "Epoch : 15 training loss : 0.3647065563544409 test Loss 0.38895270228385925Test accuracy 0.8673368096351624\n",
      "Epoch : 16 training loss : 0.36701051289561204 test Loss 0.3717798888683319Test accuracy 0.8724124431610107\n",
      "Epoch : 17 training loss : 0.36004680232293823 test Loss 0.3727811872959137Test accuracy 0.8743033409118652\n",
      "Epoch : 18 training loss : 0.36417878793278485 test Loss 0.3622225522994995Test accuracy 0.8753980994224548\n",
      "Epoch : 19 training loss : 0.3602059877821123 test Loss 0.37650635838508606Test accuracy 0.8720143437385559\n",
      "Epoch : 20 training loss : 0.35903393989528165 test Loss 0.3946853280067444Test accuracy 0.8704219460487366\n",
      "Epoch : 21 training loss : 0.3568411018612034 test Loss 0.387468159198761Test accuracy 0.8647491931915283\n",
      "Epoch : 22 training loss : 0.35162412816050975 test Loss 0.38508832454681396Test accuracy 0.8673368096351624\n",
      "Epoch : 23 training loss : 0.3501825399204358 test Loss 0.38120514154434204Test accuracy 0.8744028806686401\n",
      "Epoch : 24 training loss : 0.34803669239634644 test Loss 0.36698025465011597Test accuracy 0.8746019005775452\n",
      "Epoch : 25 training loss : 0.3385062956972036 test Loss 0.3811691701412201Test accuracy 0.8684315085411072\n",
      "Epoch : 26 training loss : 0.3427466790575081 test Loss 0.3804594874382019Test accuracy 0.8696258068084717\n",
      "Epoch : 27 training loss : 0.3484885102983858 test Loss 0.38460126519203186Test accuracy 0.8685310482978821\n",
      "Epoch : 28 training loss : 0.3509143372334397 test Loss 0.37690940499305725Test accuracy 0.8738057613372803\n",
      "Epoch : 29 training loss : 0.33583481391387454 test Loss 0.39721062779426575Test accuracy 0.8713176846504211\n",
      "Epoch : 30 training loss : 0.33598937901225423 test Loss 0.3699609339237213Test accuracy 0.8757961988449097\n"
     ]
    }
   ],
   "source": [
    "## TODO: Train your model with dropout, and monitor the training progress with the validation loss and accuracy\n",
    "\n",
    "model = Classifier()\n",
    "criterion = nn.NLLLoss()\n",
    "optimizer = optim.Adam(model.parameters(), lr=0.003)\n",
    "\n",
    "epochs = 30\n",
    "steps = 0\n",
    "\n",
    "train_losses, test_losses = [], []\n",
    "for e in range(epochs):\n",
    "    running_loss = 0\n",
    "    for images, labels in trainloader:\n",
    "        \n",
    "        optimizer.zero_grad()\n",
    "        \n",
    "        log_ps = model(images)\n",
    "        loss = criterion(log_ps, labels)\n",
    "        loss.backward()\n",
    "        optimizer.step()\n",
    "        \n",
    "        running_loss += loss.item()\n",
    "        \n",
    "    else:\n",
    "        ## TODO: Implement the validation pass and print out the validation accuracy\n",
    "        test_loss = 0\n",
    "        accuracy = 0\n",
    "        with torch.no_grad():\n",
    "            model.eval()\n",
    "            for x_test, y_test in testloader:\n",
    "                y_preds =  model(x_test)\n",
    "                test_loss += criterion(y_preds, y_test)\n",
    "                \n",
    "                y_proba = torch.exp(y_preds)\n",
    "                top_p, top_class = y_proba.topk(1, dim=1)\n",
    "                equals = top_class == y_test.view(*top_class.shape)\n",
    "                \n",
    "                accuracy += torch.mean(equals.type(torch.FloatTensor))\n",
    "                \n",
    "        model.train()\n",
    "        train_losses.append(running_loss/len(trainloader)) \n",
    "        test_losses.append(test_loss/len(testloader))\n",
    "                \n",
    "        print(f\"Epoch : {e + 1} \"+\n",
    "              f\"training loss : {running_loss/len(trainloader)} \"+ \n",
    "              f\"test Loss {test_loss/len(testloader)}\" +\n",
    "              f\"Test accuracy {accuracy/len(testloader)}\")\n",
    "        \n",
    "        "
   ]
  },
  {
   "cell_type": "markdown",
   "metadata": {},
   "source": [
    "## Inference\n",
    "\n",
    "Now that the model is trained, we can use it for inference. We've done this before, but now we need to remember to set the model in inference mode with `model.eval()`. You'll also want to turn off autograd with the `torch.no_grad()` context."
   ]
  },
  {
   "cell_type": "code",
   "execution_count": 21,
   "metadata": {},
   "outputs": [
    {
     "data": {
      "image/png": "[encoded data removed]",
      "text/plain": [
       "<Figure size 600x900 with 2 Axes>"
      ]
     },
     "metadata": {},
     "output_type": "display_data"
    }
   ],
   "source": [
    "# Import helper module (should be in the repo)\n",
    "import helper\n",
    "\n",
    "# Test out your network!\n",
    "\n",
    "model.eval()\n",
    "\n",
    "dataiter = iter(testloader)\n",
    "images, labels = next(dataiter)\n",
    "img = images[0]\n",
    "# Convert 2D image to 1D vector\n",
    "img = img.view(1, 784)\n",
    "\n",
    "# Calculate the class probabilities (softmax) for img\n",
    "with torch.no_grad():\n",
    "    output = model.forward(img)\n",
    "\n",
    "ps = torch.exp(output)\n",
    "\n",
    "# Plot the image and probabilities\n",
    "helper.view_classify(img.view(1, 28, 28), ps, version='Fashion')"
   ]
  },
  {
   "cell_type": "markdown",
   "metadata": {},
   "source": [
    "## Next Up!\n",
    "\n",
    "In the next part, I'll show you how to save your trained models. In general, you won't want to train a model everytime you need it. Instead, you'll train once, save it, then load the model when you want to train more or use if for inference."
   ]
  }
 ],
 "metadata": {
  "kernelspec": {
   "display_name": "Python 3 (ipykernel)",
   "language": "python",
   "name": "python3"
  },
  "language_info": {
   "codemirror_mode": {
    "name": "ipython",
    "version": 3
   },
   "file_extension": ".py",
   "mimetype": "text/x-python",
   "name": "python",
   "nbconvert_exporter": "python",
   "pygments_lexer": "ipython3",
   "version": "3.9.13"
  }
 },
 "nbformat": 4,
 "nbformat_minor": 4
}
